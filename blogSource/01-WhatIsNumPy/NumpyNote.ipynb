{
 "cells": [
  {
   "attachments": {},
   "cell_type": "markdown",
   "metadata": {},
   "source": [
    "# What is NumPy"
   ]
  },
  {
   "attachments": {},
   "cell_type": "markdown",
   "metadata": {},
   "source": [
    "**NumPy** (Numerical Python) 是 **Python** 科学计算的基础包。它是一个 **Python** 库，提供了一个多维数组对象、各种派生对象（例如掩码数组和矩阵），以及用于对数组进行快速操作的各种例程，包括**数学、逻辑、形状操作、排序、选择、I/O、离散傅立叶变换、基本线性代数、基本统计运算、随机模拟**等等。"
   ]
  },
  {
   "attachments": {},
   "cell_type": "markdown",
   "metadata": {},
   "source": [
    "## ADVANTAGE"
   ]
  },
  {
   "attachments": {},
   "cell_type": "markdown",
   "metadata": {},
   "source": [
    "**NumPy** 的核心是 **ndarray** 对象。其封装了**同构**数据类型的 **n 维数组**，许多操作在编译代码中执行以提高性能。NumPy 数组和标准 Python 序列之间有几个重要的区别："
   ]
  },
  {
   "attachments": {},
   "cell_type": "markdown",
   "metadata": {},
   "source": [
    "* 与 Python 列表（可以动态增长）不同，NumPy 数组在创建时具有固定大小。更改 **ndarray** 的大小将创建一个新数组并删除原始数组；\n",
    "* NumPy 数组中的元素都需要具有相同的数据类型，因此在内存中的大小相同。例外：可以有（Python，包括 NumPy）对象的数组，从而允许不同大小元素的数组；\n",
    "* NumPy 数组有助于对大量数据进行高级数学运算和其他类型的运算。通常，与使用 Python 的内置序列相比，此类操作的执行效率更高，代码更少。"
   ]
  },
  {
   "attachments": {},
   "cell_type": "markdown",
   "metadata": {},
   "source": [
    "### [ EXAMPLE ]"
   ]
  },
  {
   "attachments": {},
   "cell_type": "markdown",
   "metadata": {},
   "source": [
    "大数据时代的来临，使我们在构造模型时必须高度注意算法/程序的内存使用以及算力开销。毋庸置疑，大量的第三方库以及简洁的语法是 Python 的优势，但运行速度绝对是它不可否认的短板。"
   ]
  },
  {
   "attachments": {},
   "cell_type": "markdown",
   "metadata": {},
   "source": [
    "高级语言是为了方便用户编程而诞生的程序设计语言，计算机是无法直接执行程序指令的，它们需要先被编译为机器语言（0/1代码）才能交给计算机执行。\n",
    "* Python 作为解释语言，需要解释器逐条解释（词法分析 $\\rightarrow$ 语法分析 $\\rightarrow$ 语义分析）执行；\n",
    "* 而 C++ 是典型的编译语言，编译器读取源代码，再输出可执行代码：编译器前端（词法分析 $\\rightarrow$ 语法分析 $\\rightarrow$ 语义分析 $\\rightarrow$ 中间代码生成）$\\rightarrow$ 编译器后端（代码优化 $\\rightarrow$ 目标代码生成），执行时不再需要编译器，直接在支持目标代码的平台上运行，因此执行效率比解释执行快很多。"
   ]
  },
  {
   "attachments": {},
   "cell_type": "markdown",
   "metadata": {},
   "source": [
    "这里我们来看一个简单的编程实例：考虑将一维序列中的每个元素，与另一个相同长度序列中的相应元素相乘的情况。如果数据存储在两个 Python 列表 `a` 和 `b` 中，我们可以遍历列表完成元素相乘："
   ]
  },
  {
   "cell_type": "code",
   "execution_count": 5,
   "metadata": {},
   "outputs": [
    {
     "name": "stdout",
     "output_type": "stream",
     "text": [
      "The run time is: 0.15964174270629883s\n"
     ]
    }
   ],
   "source": [
    "import time\n",
    "\n",
    "def list_mul(a, b):\n",
    "\n",
    "    c = []\n",
    "    for i in range(len(a)):\n",
    "        c.append(a[i] * b[i])\n",
    "\n",
    "a = list(range(1000000))\n",
    "b = list(range(1000000))\n",
    "cur_t = time.time()\n",
    "c = list_mul(a, b)\n",
    "print('The run time is: ' + str(time.time() - cur_t) + 's')"
   ]
  },
  {
   "attachments": {},
   "cell_type": "markdown",
   "metadata": {},
   "source": [
    "然后，我们以相同的算法编写 C++ 程序，并编译执行："
   ]
  },
  {
   "attachments": {},
   "cell_type": "markdown",
   "metadata": {},
   "source": [
    "```c++\n",
    "#include <iostream>\n",
    "\n",
    "using namespace std;\n",
    "\n",
    "int* listMul(int a[], int b[], int length) {\n",
    "    int *c = new int[length];\n",
    "    for (int i=0; i<length; ++i) {\n",
    "        c[i] = a[i] * b[i];\n",
    "    }\n",
    "\n",
    "    return c;\n",
    "}\n",
    "\n",
    "int main() {\n",
    "    int a[1000000], b[1000000] = {0};\n",
    "    int length = sizeof(a)/sizeof(a[0]);\n",
    "    for (int i=0; i<length; ++i) {\n",
    "        a[i] = b[i] = i;\n",
    "    }\n",
    "\n",
    "    clock_t start_time=clock();\n",
    "    int *c = listMul(a, b, length);\n",
    "    clock_t end_time=clock();\n",
    "    delete[] c;\n",
    "    cout << \"The run time is: \" <<(double)(end_time - start_time) / CLOCKS_PER_SEC << \"s\" << endl;\n",
    "\n",
    "    return 0;\n",
    "}\n",
    "```"
   ]
  },
  {
   "attachments": {},
   "cell_type": "markdown",
   "metadata": {},
   "source": [
    "编译运行结果如图：\n",
    "![图1](/image/listMulResult.jpg)\n",
    "显然，编程逻辑相同的情况下，C++ 的运行速度会快于 Python。"
   ]
  },
  {
   "attachments": {},
   "cell_type": "markdown",
   "metadata": {},
   "source": [
    "但是，当我们需要编写更加复杂的算法逻辑时，C++ 所需的编码工作会随着数据维度的增加而增加。此时，NumPy 为我们提供了两全其美的方法：当涉及 **ndarray** 时，逐元素操作是“默认模式”，但逐元素操作由预编译的 C 代码快速执行。在 NumPy 中："
   ]
  },
  {
   "cell_type": "code",
   "execution_count": 2,
   "metadata": {},
   "outputs": [
    {
     "name": "stdout",
     "output_type": "stream",
     "text": [
      "The run time is: 0.0029189586639404297s\n"
     ]
    }
   ],
   "source": [
    "import numpy as np\n",
    "import time\n",
    "\n",
    "a = np.array(range(1000000))\n",
    "b = np.array(range(1000000))\n",
    "\n",
    "cur_t = time.time()\n",
    "c = a * b\n",
    "print('The run time is: ' + str(time.time() - cur_t) + 's')"
   ]
  },
  {
   "attachments": {},
   "cell_type": "markdown",
   "metadata": {},
   "source": [
    "在保留 Python 语言语法简洁、编程逻辑简单的基础上，加快操作数据的速度，这就是 NumPy 正在做的事情！"
   ]
  },
  {
   "attachments": {},
   "cell_type": "markdown",
   "metadata": {},
   "source": [
    "## WHY NumPy FASTER"
   ]
  },
  {
   "attachments": {},
   "cell_type": "markdown",
   "metadata": {},
   "source": [
    "NumPy 大部分强大功能的基础是**矢量化**和**广播**："
   ]
  },
  {
   "attachments": {},
   "cell_type": "markdown",
   "metadata": {},
   "source": [
    "* **矢量化**描述了代码中没有任何显式循环、索引等。当然，这些事情只是在优化、预编译 C 代码的“幕后”发生的。矢量化代码有很多优点，其中包括：\n",
    "  * 更简洁易读；\n",
    "  * 更少的代码往往意味着更少的错误；\n",
    "  * 代码更接近标准数学符号（通常更容易正确编码数学结构）；\n",
    "  * 矢量化会产生更多的 `Pythonic` 代码，如果没有矢量化，代码中会包含更多低效且难以阅读的 `for` 循环。\n",
    "* **广播**是用于描述操作的隐式逐元素行为的术语；一般而言，在 NumPy 中，所有操作，不仅是算术运算，还有逻辑、按位、函数等，都以这种隐式的逐元素方式表现，即它们正在广播。此外，在上面的 [[EXAMPLE]](###[EXAMPLE]) 中，`a` 和 `b` 可以是相同形状的多维数组，或者一个标量和一个数组，甚至两个不同形状的数组，前提是较小的数组可以“扩展”到较大的数组中，由此产生的广播是明确的。"
   ]
  },
  {
   "attachments": {},
   "cell_type": "markdown",
   "metadata": {},
   "source": [
    "我们再来看一个广播的例子："
   ]
  },
  {
   "cell_type": "code",
   "execution_count": 1,
   "metadata": {},
   "outputs": [
    {
     "data": {
      "text/plain": [
       "array([0, 1, 2, 3, 4, 5, 6, 7, 8, 9])"
      ]
     },
     "execution_count": 1,
     "metadata": {},
     "output_type": "execute_result"
    }
   ],
   "source": [
    "import numpy as np\n",
    "\n",
    "a = np.array(range(10))\n",
    "a"
   ]
  },
  {
   "cell_type": "code",
   "execution_count": 2,
   "metadata": {},
   "outputs": [
    {
     "data": {
      "text/plain": [
       "array([ 1,  2,  3,  4,  5,  6,  7,  8,  9, 10])"
      ]
     },
     "execution_count": 2,
     "metadata": {},
     "output_type": "execute_result"
    }
   ],
   "source": [
    "a += 1\n",
    "a"
   ]
  },
  {
   "cell_type": "code",
   "execution_count": 19,
   "metadata": {},
   "outputs": [
    {
     "name": "stdout",
     "output_type": "stream",
     "text": [
      "(2,)\n",
      "(3, 2)\n"
     ]
    }
   ],
   "source": [
    "a = np.array([1, 2])\n",
    "print(a.shape)\n",
    "b = np.array([[1, 2], [4, 5], [7, 8]])\n",
    "print(b.shape)"
   ]
  },
  {
   "cell_type": "code",
   "execution_count": 20,
   "metadata": {},
   "outputs": [
    {
     "name": "stdout",
     "output_type": "stream",
     "text": [
      "[[ 2  4]\n",
      " [ 5  7]\n",
      " [ 8 10]]\n",
      "(3, 2)\n"
     ]
    }
   ],
   "source": [
    "print(a + b)\n",
    "print((a + b).shape)"
   ]
  },
  {
   "cell_type": "code",
   "execution_count": 21,
   "metadata": {},
   "outputs": [
    {
     "name": "stdout",
     "output_type": "stream",
     "text": [
      "(2, 5, 3, 4)\n",
      "(2, 2)\n"
     ]
    }
   ],
   "source": [
    "a = np.ones((2, 5, 3, 4))\n",
    "print(a.shape)\n",
    "b = np.zeros((2, 2))\n",
    "print(b.shape)"
   ]
  },
  {
   "cell_type": "code",
   "execution_count": 22,
   "metadata": {},
   "outputs": [
    {
     "ename": "ValueError",
     "evalue": "operands could not be broadcast together with shapes (2,5,3,4) (2,2) ",
     "output_type": "error",
     "traceback": [
      "\u001b[0;31m---------------------------------------------------------------------------\u001b[0m",
      "\u001b[0;31mValueError\u001b[0m                                Traceback (most recent call last)",
      "\u001b[0;32m<ipython-input-22-bd58363a63fc>\u001b[0m in \u001b[0;36m<module>\u001b[0;34m\u001b[0m\n\u001b[0;32m----> 1\u001b[0;31m \u001b[0ma\u001b[0m \u001b[0;34m+\u001b[0m \u001b[0mb\u001b[0m\u001b[0;34m\u001b[0m\u001b[0;34m\u001b[0m\u001b[0m\n\u001b[0m",
      "\u001b[0;31mValueError\u001b[0m: operands could not be broadcast together with shapes (2,5,3,4) (2,2) "
     ]
    }
   ],
   "source": [
    "a + b"
   ]
  },
  {
   "attachments": {},
   "cell_type": "markdown",
   "metadata": {},
   "source": [
    "此时，广播的机制就不再生效，并直接告诉我们 `operands could not be broadcast together with shapes (3,3) (2,2)`，因为此时 `a` 和 `b` 的最后一维不等，不能广播，但如果我们做如下修改："
   ]
  },
  {
   "cell_type": "code",
   "execution_count": 25,
   "metadata": {},
   "outputs": [
    {
     "name": "stdout",
     "output_type": "stream",
     "text": [
      "(2, 5, 3, 4)\n",
      "(3, 4)\n"
     ]
    }
   ],
   "source": [
    "a = np.ones((2, 5, 3, 4))\n",
    "print(a.shape)\n",
    "b = np.zeros((3, 4))\n",
    "print(b.shape)"
   ]
  },
  {
   "cell_type": "code",
   "execution_count": 27,
   "metadata": {},
   "outputs": [
    {
     "name": "stdout",
     "output_type": "stream",
     "text": [
      "(2, 5, 3, 4)\n"
     ]
    }
   ],
   "source": [
    "print((a + b).shape)"
   ]
  },
  {
   "attachments": {},
   "cell_type": "markdown",
   "metadata": {},
   "source": [
    "此时就又可以广播了。这里再看一个有趣的广播："
   ]
  },
  {
   "cell_type": "code",
   "execution_count": 28,
   "metadata": {},
   "outputs": [
    {
     "name": "stdout",
     "output_type": "stream",
     "text": [
      "(2, 5, 3, 1)\n",
      "(5, 1, 4)\n"
     ]
    }
   ],
   "source": [
    "a = np.ones((2, 5, 3, 1))\n",
    "print(a.shape)\n",
    "b = np.zeros((5, 1, 4))\n",
    "print(b.shape)"
   ]
  },
  {
   "cell_type": "code",
   "execution_count": 29,
   "metadata": {},
   "outputs": [
    {
     "name": "stdout",
     "output_type": "stream",
     "text": [
      "(2, 5, 3, 4)\n"
     ]
    }
   ],
   "source": [
    "print((a + b).shape)"
   ]
  },
  {
   "attachments": {},
   "cell_type": "markdown",
   "metadata": {},
   "source": [
    "这里给出两个广播的规则："
   ]
  },
  {
   "attachments": {},
   "cell_type": "markdown",
   "metadata": {},
   "source": [
    "* `a` 和 `b` 各维度大小从后往前进行比较，如果一致则可以广播；\n",
    "* `a` 和 `b` 各维度大小存在不一致，但不一致的维度中存在一个为 1，则可以广播"
   ]
  },
  {
   "attachments": {},
   "cell_type": "markdown",
   "metadata": {},
   "source": [
    "## REFERENCES"
   ]
  },
  {
   "attachments": {},
   "cell_type": "markdown",
   "metadata": {},
   "source": [
    "[1] [Numpy中文教程](https://www.w3cschool.cn/numpy_ln/)"
   ]
  }
 ],
 "metadata": {
  "kernelspec": {
   "display_name": "base",
   "language": "python",
   "name": "python3"
  },
  "language_info": {
   "codemirror_mode": {
    "name": "ipython",
    "version": 3
   },
   "file_extension": ".py",
   "mimetype": "text/x-python",
   "name": "python",
   "nbconvert_exporter": "python",
   "pygments_lexer": "ipython3",
   "version": "3.7.4"
  },
  "orig_nbformat": 4
 },
 "nbformat": 4,
 "nbformat_minor": 2
}
